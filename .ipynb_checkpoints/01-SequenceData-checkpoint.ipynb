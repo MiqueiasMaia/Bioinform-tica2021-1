{
 "cells": [
  {
   "cell_type": "code",
   "execution_count": 1,
   "metadata": {
    "id": "CTdf2qkK5Jqm"
   },
   "outputs": [],
   "source": [
    "#1 Alinhar sequência (BLAST)\n",
    "#2 ID Entrez (NCBI)\n",
    "#3 Nome oficial (NCBI)\n",
    "#4 Localização (Ensemble/FASTA)\n",
    "#5 Tamanho (Ensemble/FASTA)\n",
    "#6 Sentido (Ensemble)\n",
    "#7 Quantidade de exons (NCBI)\n",
    "#8 Sinônimos (NCBI)\n",
    "#9 Transcritos (Ensemble)\n",
    "#10 Fenótipos (Ensemble)\n",
    "#11 Outros genes (Ensemble)"
   ]
  },
  {
   "cell_type": "code",
   "execution_count": 312,
   "metadata": {
    "id": "aNDj4kjQ6Mpk"
   },
   "outputs": [
    {
     "name": "stdout",
     "output_type": "stream",
     "text": [
      "Requirement already satisfied: Biopython in c:\\programdata\\anaconda3\\lib\\site-packages (1.78)\n",
      "Requirement already satisfied: numpy in c:\\programdata\\anaconda3\\lib\\site-packages (from Biopython) (1.16.5)\n",
      "Requirement already satisfied: beautifulsoup4 in c:\\programdata\\anaconda3\\lib\\site-packages (4.8.0)\n",
      "Requirement already satisfied: soupsieve>=1.2 in c:\\programdata\\anaconda3\\lib\\site-packages (from beautifulsoup4) (1.9.3)\n",
      "Requirement already satisfied: ensembl_rest in c:\\programdata\\anaconda3\\lib\\site-packages (0.3.3)\n",
      "Requirement already satisfied: intervaltree in c:\\programdata\\anaconda3\\lib\\site-packages (from ensembl_rest) (3.1.0)\n",
      "Requirement already satisfied: requests in c:\\programdata\\anaconda3\\lib\\site-packages (from ensembl_rest) (2.22.0)\n",
      "Requirement already satisfied: importlib-resources in c:\\programdata\\anaconda3\\lib\\site-packages (from ensembl_rest) (5.1.4)\n",
      "Requirement already satisfied: simplejson in c:\\programdata\\anaconda3\\lib\\site-packages (from ensembl_rest) (3.17.2)\n",
      "Requirement already satisfied: sortedcontainers<3.0,>=2.0 in c:\\programdata\\anaconda3\\lib\\site-packages (from intervaltree->ensembl_rest) (2.1.0)\n",
      "Requirement already satisfied: certifi>=2017.4.17 in c:\\programdata\\anaconda3\\lib\\site-packages (from requests->ensembl_rest) (2019.9.11)\n",
      "Requirement already satisfied: urllib3!=1.25.0,!=1.25.1,<1.26,>=1.21.1 in c:\\programdata\\anaconda3\\lib\\site-packages (from requests->ensembl_rest) (1.24.2)\n",
      "Requirement already satisfied: idna<2.9,>=2.5 in c:\\programdata\\anaconda3\\lib\\site-packages (from requests->ensembl_rest) (2.8)\n",
      "Requirement already satisfied: chardet<3.1.0,>=3.0.2 in c:\\programdata\\anaconda3\\lib\\site-packages (from requests->ensembl_rest) (3.0.4)\n",
      "Requirement already satisfied: zipp>=3.1.0; python_version < \"3.10\" in c:\\programdata\\anaconda3\\lib\\site-packages (from importlib-resources->ensembl_rest) (3.4.1)\n"
     ]
    }
   ],
   "source": [
    "!pip install Biopython\n",
    "!pip install beautifulsoup4\n",
    "!pip install ensembl_rest"
   ]
  },
  {
   "cell_type": "code",
   "execution_count": 313,
   "metadata": {
    "id": "fPodWL7w6OcS"
   },
   "outputs": [],
   "source": [
    "from Bio.Seq import Seq\n",
    "from Bio import SeqIO\n",
    "from Bio.Blast import NCBIWWW\n",
    "from Bio.Blast import NCBIXML\n",
    "from Bio import Entrez\n",
    "from Bio import SeqIO \n",
    "from bs4 import BeautifulSoup as BS\n",
    "import lxml\n",
    "import ensembl_rest"
   ]
  },
  {
   "cell_type": "code",
   "execution_count": 314,
   "metadata": {
    "id": "hILTQyeD_vny"
   },
   "outputs": [],
   "source": [
    "seq_01 = SeqIO.read(\"seq01.fasta\", \"fasta\")\n",
    "seq_02 = SeqIO.read(\"seq02.fasta\", \"fasta\")\n",
    "seq_03 = SeqIO.read(\"seq03.fasta\", \"fasta\")\n",
    "seq_04 = SeqIO.read(\"seq04.fasta\", \"fasta\")"
   ]
  },
  {
   "cell_type": "code",
   "execution_count": 316,
   "metadata": {
    "id": "P4cEP7rdBBXb"
   },
   "outputs": [],
   "source": [
    "result_handle_seq01 = NCBIWWW.qblast(\"blastn\", \"nt\", seq_01.seq)"
   ]
  },
  {
   "cell_type": "code",
   "execution_count": 317,
   "metadata": {
    "id": "RLT5S1vUDECK"
   },
   "outputs": [],
   "source": [
    "blast_records_seq01 = NCBIXML.parse(result_handle_seq01)\n",
    "recs_01 = []\n",
    "for record in blast_records_seq01:\n",
    "  recs_01.append(record)"
   ]
  },
  {
   "cell_type": "raw",
   "metadata": {},
   "source": [
    "seq_01_accession = ''\n",
    "for alignments in recs_01:\n",
    "    for description in alignments.descriptions:\n",
    "        seq_01_accession = description.title.split('|')[3]\n",
    "        print(description)\n",
    "        print('Title: ', description.title)\n",
    "        print('Score: ',description.score)\n",
    "        print('E-Value: ',description.e)\n",
    "        print('Numero de alinhamentos: ',description.num_alignments)\n",
    "        print('\\n')\n",
    "        break\n",
    "        \n",
    "    for alignment in alignments.alignments:\n",
    "        print(alignment)\n",
    "        print('Title: ',alignment.title)\n",
    "        print('Length: ',alignment.length)\n",
    "        print('HSPS: ',alignment.hsps)\n",
    "        print('\\n')\n",
    "        break\n",
    " \n",
    "    for alignment in alignments.alignments:\n",
    "        for hsp in alignment.hsps:\n",
    "            print(hsp)\n",
    "            print('Score: ', hsp.score)\n",
    "            print('Bits: ',hsp.bits)\n",
    "            print('Expect: ',hsp.expect)\n",
    "            print('Num alignments: ',hsp.num_alignments)\n",
    "            print('Identities: ',hsp.identities)\n",
    "            print('Positives: ',hsp.positives)\n",
    "            print('Gaps: ',hsp.gaps)\n",
    "            print('Strands: ',hsp.strand)\n",
    "            print('Frames: ',hsp.frame)\n",
    "            print('Query: ',hsp.query)\n",
    "            print('Query start: ',hsp.query_start)\n",
    "            print('Match: ',hsp.match)\n",
    "            print('Subject: ',hsp.sbjct)\n",
    "            print('Subject start: ',hsp.sbjct_start)\n",
    "            print('Align length: ',hsp.align_length)\n",
    "            print('\\n')\n",
    "            break\n",
    "    \n",
    "seq_01_accession# "
   ]
  },
  {
   "cell_type": "code",
   "execution_count": 318,
   "metadata": {
    "id": "XNz6DEwBDVaS"
   },
   "outputs": [
    {
     "data": {
      "text/plain": [
       "'NM_001287174.3'"
      ]
     },
     "execution_count": 318,
     "metadata": {},
     "output_type": "execute_result"
    }
   ],
   "source": [
    "seq_01_accession = recs_01[0].descriptions[0].title.split('|')[3]\n",
    "seq_01_accession"
   ]
  },
  {
   "cell_type": "code",
   "execution_count": 319,
   "metadata": {
    "id": "IYlvyOKDJPSR"
   },
   "outputs": [
    {
     "name": "stdout",
     "output_type": "stream",
     "text": [
      "6833\n"
     ]
    }
   ],
   "source": [
    "Entrez.email = 'miqueias.maia@aluno.uece.br'\n",
    "handle_seq01 = Entrez.esearch(db='gene', retmode=\"xml\", term=seq_01_accession)\n",
    "id_seq01 = Entrez.read(handle_seq01)['IdList'][0]\n",
    "print(id_seq01)"
   ]
  },
  {
   "cell_type": "code",
   "execution_count": 320,
   "metadata": {},
   "outputs": [],
   "source": [
    "handle_gene_seq01 = Entrez.efetch(db=\"gene\", id=id_seq01, retmode=\"xml\")\n",
    "record_gene_seq01 = Entrez.read(handle_gene_seq01)\n",
    "handle_gene_seq01.close()"
   ]
  },
  {
   "cell_type": "code",
   "execution_count": 321,
   "metadata": {},
   "outputs": [],
   "source": [
    "ensembl_seq01 = ensembl_rest.sequence_id(\n",
    "    record_gene_seq01[0]['Entrezgene_gene']['Gene-ref']['Gene-ref_db'][1]['Dbtag_tag']['Object-id']['Object-id_str'],\n",
    "    headers={\n",
    "        'db_type': 'core',\n",
    "        'type':'protein'\n",
    "    }\n",
    ")"
   ]
  },
  {
   "cell_type": "code",
   "execution_count": 334,
   "metadata": {},
   "outputs": [],
   "source": [
    "lookup_seq01 = ensembl_rest.symbol_lookup(species=record_gene_seq01[0]['Entrezgene_source']['BioSource']['BioSource_org']['Org-ref']['Org-ref_taxname'], symbol=record_gene_seq01[0]['Entrezgene_gene']['Gene-ref']['Gene-ref_locus'],params={'expand':True})"
   ]
  },
  {
   "cell_type": "code",
   "execution_count": 413,
   "metadata": {
    "scrolled": true
   },
   "outputs": [
    {
     "name": "stdout",
     "output_type": "stream",
     "text": [
      "[NCBI] ID Entrez:  6833\n",
      "[NCBI] Símbolo Oficial:  ABCC8\n",
      "[NCBI] Nome Oficial:  ATP binding cassette subfamily C member 8\n",
      "[NCBI] Organismo:  Homo sapiens\n",
      "[ENSB] Produto:  protein_coding\n",
      "[NCBI] Quantidade de exons:  38\n",
      "[NCBI] Também conhecido como:  ['HI', 'SUR', 'HHF1', 'MRP8', 'PHHI', 'SUR1', 'ABC36', 'HRINS', 'PNDM3', 'TNDM2', 'SUR1delta2']\n",
      "[ENSB] Localização: Cromossomo  11 : 17392498 - 17476894\n",
      "[ENSB] Tamanho:  84396\n",
      "[ENSB] Sentido:  3'-5'\n",
      "[ENSB] Transcritos:  100\n",
      "[ENSB] Fenótipos:\n",
      "|- Hyperinsulinemic hypoglycemia, familial, 1\n",
      "|- Leucine-induced hypoglycemia\n",
      "|- Permanent neonatal diabetes mellitus\n",
      "|- Permanent neonatal diabetes mellitus 3\n",
      "|- Transient neonatal diabetes mellitus 2\n",
      "|- Type 2 diabetes mellitus\n"
     ]
    }
   ],
   "source": [
    "print('[NCBI] ID Entrez: ',record_gene_seq01[0]['Entrezgene_track-info']['Gene-track']['Gene-track_geneid'])\n",
    "print('[NCBI] Símbolo Oficial: ',record_gene_seq01[0]['Entrezgene_gene']['Gene-ref']['Gene-ref_locus'])\n",
    "print('[NCBI] Nome Oficial: ',record_gene_seq01[0]['Entrezgene_gene']['Gene-ref']['Gene-ref_desc'])\n",
    "print('[NCBI] Organismo: ',record_gene_seq01[0]['Entrezgene_source']['BioSource']['BioSource_org']['Org-ref']['Org-ref_taxname'])\n",
    "print('[ENSB] Produto: ',lookup_seq01['biotype'])\n",
    "print('[NCBI] Quantidade de exons: ',record_gene_seq01[0]['Entrezgene_properties'][1]['Gene-commentary_text'])\n",
    "print('[NCBI] Também conhecido como: ',record_gene_seq01[0]['Entrezgene_gene']['Gene-ref']['Gene-ref_syn'])\n",
    "print('[ENSB] Localização: Cromossomo ',ensembl_seq01['desc'].split(':')[2],':',ensembl_seq01['desc'].split(':')[3], '-', ensembl_seq01['desc'].split(':')[4])\n",
    "print('[ENSB] Tamanho: ',int(lookup_seq01['end'] - lookup_seq01['start']))\n",
    "print('[ENSB] Sentido: ', (\"3'-5'\" if lookup_seq01['strand'] == -1 else \"5'-3'\"))\n",
    "print('[ENSB] Transcritos: ', len(lookup_seq01['Transcript']))\n",
    "print('[ENSB] Fenótipos:')\n",
    "for phenotype in record_gene_seq01[0]['Entrezgene_comments'][3]['Gene-commentary_comment']:\n",
    "    print('|-',phenotype['Gene-commentary_heading'])\n",
    "#11 Outros genes (Ensemble)\n"
   ]
  },
  {
   "cell_type": "code",
   "execution_count": null,
   "metadata": {},
   "outputs": [],
   "source": []
  },
  {
   "cell_type": "code",
   "execution_count": null,
   "metadata": {},
   "outputs": [],
   "source": []
  },
  {
   "cell_type": "code",
   "execution_count": null,
   "metadata": {},
   "outputs": [],
   "source": []
  },
  {
   "cell_type": "code",
   "execution_count": null,
   "metadata": {},
   "outputs": [],
   "source": []
  }
 ],
 "metadata": {
  "accelerator": "GPU",
  "colab": {
   "name": "Untitled1.ipynb",
   "private_outputs": true,
   "provenance": []
  },
  "kernelspec": {
   "display_name": "Python 3",
   "language": "python",
   "name": "python3"
  },
  "language_info": {
   "codemirror_mode": {
    "name": "ipython",
    "version": 3
   },
   "file_extension": ".py",
   "mimetype": "text/x-python",
   "name": "python",
   "nbconvert_exporter": "python",
   "pygments_lexer": "ipython3",
   "version": "3.7.4"
  }
 },
 "nbformat": 4,
 "nbformat_minor": 1
}
