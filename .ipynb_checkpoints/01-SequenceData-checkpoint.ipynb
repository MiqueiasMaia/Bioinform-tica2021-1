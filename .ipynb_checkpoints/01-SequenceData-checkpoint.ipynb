{
 "cells": [
  {
   "cell_type": "code",
   "execution_count": 1,
   "metadata": {
    "id": "CTdf2qkK5Jqm"
   },
   "outputs": [],
   "source": [
    "#1 Alinhar sequência (BLAST)\n",
    "#2 ID Entrez (NCBI)\n",
    "#3 Nome oficial (NCBI)\n",
    "#4 Localização (Ensemble/FASTA)\n",
    "#5 Tamanho (Ensemble/FASTA)\n",
    "#6 Sentido (Ensemble)\n",
    "#7 Quantidade de exons (NCBI)\n",
    "#8 Sinônimos (NCBI)\n",
    "#9 Transcritos (Ensemble)\n",
    "#10 Fenótipos (Ensemble)\n",
    "#11 Outros genes (Ensemble)"
   ]
  },
  {
   "cell_type": "code",
   "execution_count": 457,
   "metadata": {
    "id": "aNDj4kjQ6Mpk"
   },
   "outputs": [
    {
     "name": "stdout",
     "output_type": "stream",
     "text": [
      "Requirement already satisfied: Biopython in c:\\programdata\\anaconda3\\lib\\site-packages (1.78)\n",
      "Requirement already satisfied: numpy in c:\\programdata\\anaconda3\\lib\\site-packages (from Biopython) (1.16.5)\n",
      "Requirement already satisfied: beautifulsoup4 in c:\\programdata\\anaconda3\\lib\\site-packages (4.8.0)\n",
      "Requirement already satisfied: soupsieve>=1.2 in c:\\programdata\\anaconda3\\lib\\site-packages (from beautifulsoup4) (1.9.3)\n",
      "Requirement already satisfied: ensembl_rest in c:\\programdata\\anaconda3\\lib\\site-packages (0.3.3)\n",
      "Requirement already satisfied: simplejson in c:\\programdata\\anaconda3\\lib\\site-packages (from ensembl_rest) (3.17.2)\n",
      "Requirement already satisfied: intervaltree in c:\\programdata\\anaconda3\\lib\\site-packages (from ensembl_rest) (3.1.0)\n",
      "Requirement already satisfied: importlib-resources in c:\\programdata\\anaconda3\\lib\\site-packages (from ensembl_rest) (5.1.4)\n",
      "Requirement already satisfied: requests in c:\\programdata\\anaconda3\\lib\\site-packages (from ensembl_rest) (2.22.0)\n",
      "Requirement already satisfied: sortedcontainers<3.0,>=2.0 in c:\\programdata\\anaconda3\\lib\\site-packages (from intervaltree->ensembl_rest) (2.1.0)\n",
      "Requirement already satisfied: zipp>=3.1.0; python_version < \"3.10\" in c:\\programdata\\anaconda3\\lib\\site-packages (from importlib-resources->ensembl_rest) (3.4.1)\n",
      "Requirement already satisfied: chardet<3.1.0,>=3.0.2 in c:\\programdata\\anaconda3\\lib\\site-packages (from requests->ensembl_rest) (3.0.4)\n",
      "Requirement already satisfied: idna<2.9,>=2.5 in c:\\programdata\\anaconda3\\lib\\site-packages (from requests->ensembl_rest) (2.8)\n",
      "Requirement already satisfied: urllib3!=1.25.0,!=1.25.1,<1.26,>=1.21.1 in c:\\programdata\\anaconda3\\lib\\site-packages (from requests->ensembl_rest) (1.24.2)\n",
      "Requirement already satisfied: certifi>=2017.4.17 in c:\\programdata\\anaconda3\\lib\\site-packages (from requests->ensembl_rest) (2019.9.11)\n",
      "Requirement already satisfied: omim in c:\\programdata\\anaconda3\\lib\\site-packages (1.0.2)\n",
      "Requirement already satisfied: simple-loggers in c:\\programdata\\anaconda3\\lib\\site-packages (from omim) (1.0.4)\n",
      "Requirement already satisfied: python-dateutil in c:\\programdata\\anaconda3\\lib\\site-packages (from omim) (2.8.0)\n",
      "Requirement already satisfied: webrequests in c:\\programdata\\anaconda3\\lib\\site-packages (from omim) (1.0.4)\n",
      "Requirement already satisfied: click in c:\\programdata\\anaconda3\\lib\\site-packages (from omim) (7.0)\n",
      "Requirement already satisfied: pygments in c:\\programdata\\anaconda3\\lib\\site-packages (from omim) (2.4.2)\n",
      "Requirement already satisfied: prettytable in c:\\programdata\\anaconda3\\lib\\site-packages (from omim) (2.1.0)\n",
      "Requirement already satisfied: requests in c:\\programdata\\anaconda3\\lib\\site-packages (from omim) (2.22.0)\n",
      "Requirement already satisfied: coloredlogs in c:\\programdata\\anaconda3\\lib\\site-packages (from simple-loggers->omim) (15.0)\n",
      "Requirement already satisfied: six>=1.5 in c:\\programdata\\anaconda3\\lib\\site-packages (from python-dateutil->omim) (1.12.0)\n",
      "Requirement already satisfied: bs4 in c:\\programdata\\anaconda3\\lib\\site-packages (from webrequests->omim) (0.0.1)\n",
      "Requirement already satisfied: importlib-metadata; python_version < \"3.8\" in c:\\programdata\\anaconda3\\lib\\site-packages (from prettytable->omim) (0.23)\n",
      "Requirement already satisfied: wcwidth in c:\\programdata\\anaconda3\\lib\\site-packages (from prettytable->omim) (0.1.7)\n",
      "Requirement already satisfied: urllib3!=1.25.0,!=1.25.1,<1.26,>=1.21.1 in c:\\programdata\\anaconda3\\lib\\site-packages (from requests->omim) (1.24.2)\n",
      "Requirement already satisfied: chardet<3.1.0,>=3.0.2 in c:\\programdata\\anaconda3\\lib\\site-packages (from requests->omim) (3.0.4)\n",
      "Requirement already satisfied: idna<2.9,>=2.5 in c:\\programdata\\anaconda3\\lib\\site-packages (from requests->omim) (2.8)\n",
      "Requirement already satisfied: certifi>=2017.4.17 in c:\\programdata\\anaconda3\\lib\\site-packages (from requests->omim) (2019.9.11)\n",
      "Requirement already satisfied: humanfriendly>=9.1 in c:\\programdata\\anaconda3\\lib\\site-packages (from coloredlogs->simple-loggers->omim) (9.1)\n",
      "Requirement already satisfied: beautifulsoup4 in c:\\programdata\\anaconda3\\lib\\site-packages (from bs4->webrequests->omim) (4.8.0)\n",
      "Requirement already satisfied: zipp>=0.5 in c:\\programdata\\anaconda3\\lib\\site-packages (from importlib-metadata; python_version < \"3.8\"->prettytable->omim) (3.4.1)\n",
      "Requirement already satisfied: pyreadline; sys_platform == \"win32\" in c:\\programdata\\anaconda3\\lib\\site-packages (from humanfriendly>=9.1->coloredlogs->simple-loggers->omim) (2.1)\n",
      "Requirement already satisfied: soupsieve>=1.2 in c:\\programdata\\anaconda3\\lib\\site-packages (from beautifulsoup4->bs4->webrequests->omim) (1.9.3)\n"
     ]
    }
   ],
   "source": [
    "!pip install Biopython\n",
    "!pip install beautifulsoup4\n",
    "!pip install ensembl_rest\n",
    "!pip install omim"
   ]
  },
  {
   "cell_type": "code",
   "execution_count": 471,
   "metadata": {
    "id": "fPodWL7w6OcS"
   },
   "outputs": [],
   "source": [
    "from Bio.Seq import Seq\n",
    "from Bio import SeqIO\n",
    "from Bio.Blast import NCBIWWW\n",
    "from Bio.Blast import NCBIXML\n",
    "from Bio import Entrez\n",
    "from Bio import SeqIO \n",
    "from bs4 import BeautifulSoup as BS\n",
    "import lxml\n",
    "import ensembl_rest\n",
    "import omim\n",
    "from omim import util\n",
    "from omim.db import Manager, OMIM_DATA\n",
    "\n",
    "import warnings\n",
    "warnings.filterwarnings('ignore')"
   ]
  },
  {
   "cell_type": "code",
   "execution_count": 314,
   "metadata": {
    "id": "hILTQyeD_vny"
   },
   "outputs": [],
   "source": [
    "seq_01 = SeqIO.read(\"seq01.fasta\", \"fasta\")\n",
    "seq_02 = SeqIO.read(\"seq02.fasta\", \"fasta\")\n",
    "seq_03 = SeqIO.read(\"seq03.fasta\", \"fasta\")\n",
    "seq_04 = SeqIO.read(\"seq04.fasta\", \"fasta\")"
   ]
  },
  {
   "cell_type": "code",
   "execution_count": 316,
   "metadata": {
    "id": "P4cEP7rdBBXb"
   },
   "outputs": [],
   "source": [
    "result_handle_seq01 = NCBIWWW.qblast(\"blastn\", \"nt\", seq_01.seq)"
   ]
  },
  {
   "cell_type": "code",
   "execution_count": 317,
   "metadata": {
    "id": "RLT5S1vUDECK"
   },
   "outputs": [],
   "source": [
    "blast_records_seq01 = NCBIXML.parse(result_handle_seq01)\n",
    "recs_01 = []\n",
    "for record in blast_records_seq01:\n",
    "  recs_01.append(record)"
   ]
  },
  {
   "cell_type": "raw",
   "metadata": {},
   "source": [
    "seq_01_accession = ''\n",
    "for alignments in recs_01:\n",
    "    for description in alignments.descriptions:\n",
    "        seq_01_accession = description.title.split('|')[3]\n",
    "        print(description)\n",
    "        print('Title: ', description.title)\n",
    "        print('Score: ',description.score)\n",
    "        print('E-Value: ',description.e)\n",
    "        print('Numero de alinhamentos: ',description.num_alignments)\n",
    "        print('\\n')\n",
    "        break\n",
    "        \n",
    "    for alignment in alignments.alignments:\n",
    "        print(alignment)\n",
    "        print('Title: ',alignment.title)\n",
    "        print('Length: ',alignment.length)\n",
    "        print('HSPS: ',alignment.hsps)\n",
    "        print('\\n')\n",
    "        break\n",
    " \n",
    "    for alignment in alignments.alignments:\n",
    "        for hsp in alignment.hsps:\n",
    "            print(hsp)\n",
    "            print('Score: ', hsp.score)\n",
    "            print('Bits: ',hsp.bits)\n",
    "            print('Expect: ',hsp.expect)\n",
    "            print('Num alignments: ',hsp.num_alignments)\n",
    "            print('Identities: ',hsp.identities)\n",
    "            print('Positives: ',hsp.positives)\n",
    "            print('Gaps: ',hsp.gaps)\n",
    "            print('Strands: ',hsp.strand)\n",
    "            print('Frames: ',hsp.frame)\n",
    "            print('Query: ',hsp.query)\n",
    "            print('Query start: ',hsp.query_start)\n",
    "            print('Match: ',hsp.match)\n",
    "            print('Subject: ',hsp.sbjct)\n",
    "            print('Subject start: ',hsp.sbjct_start)\n",
    "            print('Align length: ',hsp.align_length)\n",
    "            print('\\n')\n",
    "            break\n",
    "    \n",
    "seq_01_accession# "
   ]
  },
  {
   "cell_type": "code",
   "execution_count": 318,
   "metadata": {
    "id": "XNz6DEwBDVaS"
   },
   "outputs": [
    {
     "data": {
      "text/plain": [
       "'NM_001287174.3'"
      ]
     },
     "execution_count": 318,
     "metadata": {},
     "output_type": "execute_result"
    }
   ],
   "source": [
    "seq_01_accession = recs_01[0].descriptions[0].title.split('|')[3]\n",
    "seq_01_accession"
   ]
  },
  {
   "cell_type": "code",
   "execution_count": 319,
   "metadata": {
    "id": "IYlvyOKDJPSR"
   },
   "outputs": [
    {
     "name": "stdout",
     "output_type": "stream",
     "text": [
      "6833\n"
     ]
    }
   ],
   "source": [
    "Entrez.email = 'miqueias.maia@aluno.uece.br'\n",
    "handle_seq01 = Entrez.esearch(db='gene', retmode=\"xml\", term=seq_01_accession)\n",
    "id_seq01 = Entrez.read(handle_seq01)['IdList'][0]\n",
    "print(id_seq01)"
   ]
  },
  {
   "cell_type": "code",
   "execution_count": 320,
   "metadata": {},
   "outputs": [],
   "source": [
    "handle_gene_seq01 = Entrez.efetch(db=\"gene\", id=id_seq01, retmode=\"xml\")\n",
    "record_gene_seq01 = Entrez.read(handle_gene_seq01)\n",
    "handle_gene_seq01.close()"
   ]
  },
  {
   "cell_type": "code",
   "execution_count": 321,
   "metadata": {},
   "outputs": [],
   "source": [
    "ensembl_seq01 = ensembl_rest.sequence_id(\n",
    "    record_gene_seq01[0]['Entrezgene_gene']['Gene-ref']['Gene-ref_db'][1]['Dbtag_tag']['Object-id']['Object-id_str'],\n",
    "    headers={\n",
    "        'db_type': 'core',\n",
    "        'type':'protein'\n",
    "    }\n",
    ")"
   ]
  },
  {
   "cell_type": "code",
   "execution_count": 334,
   "metadata": {},
   "outputs": [],
   "source": [
    "lookup_seq01 = ensembl_rest.symbol_lookup(species=record_gene_seq01[0]['Entrezgene_source']['BioSource']['BioSource_org']['Org-ref']['Org-ref_taxname'], symbol=record_gene_seq01[0]['Entrezgene_gene']['Gene-ref']['Gene-ref_locus'],params={'expand':True})"
   ]
  },
  {
   "cell_type": "code",
   "execution_count": 476,
   "metadata": {
    "scrolled": true
   },
   "outputs": [
    {
     "name": "stdout",
     "output_type": "stream",
     "text": [
      "[NCBI] ID Entrez:  6833\n",
      "[NCBI] Símbolo Oficial:  ABCC8\n",
      "[NCBI] Nome Oficial:  ATP binding cassette subfamily C member 8\n",
      "[NCBI] Organismo:  Homo sapiens\n",
      "[ENSB] Produto:  protein_coding\n",
      "[NCBI] Quantidade de exons:  38\n",
      "[NCBI] Também conhecido como:  ['HI', 'SUR', 'HHF1', 'MRP8', 'PHHI', 'SUR1', 'ABC36', 'HRINS', 'PNDM3', 'TNDM2', 'SUR1delta2']\n",
      "[ENSB] Localização: Cromossomo  11 : 17392498 - 17476894\n",
      "[ENSB] Tamanho:  84396\n",
      "[ENSB] Sentido:  3'-5'\n",
      "[ENSB] Transcritos:  100\n",
      "[ENSB] Fenótipos:\n",
      "|- Hyperinsulinemic hypoglycemia, familial, 1\n",
      "|- Leucine-induced hypoglycemia\n",
      "|- Permanent neonatal diabetes mellitus\n",
      "|- Permanent neonatal diabetes mellitus 3\n",
      "|- Transient neonatal diabetes mellitus 2\n",
      "|- Type 2 diabetes mellitus\n"
     ]
    }
   ],
   "source": [
    "print('[NCBI] ID Entrez: ',record_gene_seq01[0]['Entrezgene_track-info']['Gene-track']['Gene-track_geneid'])\n",
    "print('[NCBI] Símbolo Oficial: ',record_gene_seq01[0]['Entrezgene_gene']['Gene-ref']['Gene-ref_locus'])\n",
    "print('[NCBI] Nome Oficial: ',record_gene_seq01[0]['Entrezgene_gene']['Gene-ref']['Gene-ref_desc'])\n",
    "print('[NCBI] Organismo: ',record_gene_seq01[0]['Entrezgene_source']['BioSource']['BioSource_org']['Org-ref']['Org-ref_taxname'])\n",
    "print('[ENSB] Produto: ',lookup_seq01['biotype'])\n",
    "print('[NCBI] Quantidade de exons: ',record_gene_seq01[0]['Entrezgene_properties'][1]['Gene-commentary_text'])\n",
    "print('[NCBI] Também conhecido como: ',record_gene_seq01[0]['Entrezgene_gene']['Gene-ref']['Gene-ref_syn'])\n",
    "print('[ENSB] Localização: Cromossomo ',ensembl_seq01['desc'].split(':')[2],':',ensembl_seq01['desc'].split(':')[3], '-', ensembl_seq01['desc'].split(':')[4])\n",
    "print('[ENSB] Tamanho: ',int(lookup_seq01['end'] - lookup_seq01['start']))\n",
    "print('[ENSB] Sentido: ', (\"3'-5'\" if lookup_seq01['strand'] == -1 else \"5'-3'\"))\n",
    "print('[ENSB] Transcritos: ', len(lookup_seq01['Transcript']))\n",
    "print('[ENSB] Fenótipos:')\n",
    "for phenotype in record_gene_seq01[0]['Entrezgene_comments'][3]['Gene-commentary_comment']:\n",
    "    print('|-',phenotype['Gene-commentary_heading'])\n",
    "#11 Outros genes (Ensemble)"
   ]
  },
  {
   "cell_type": "code",
   "execution_count": 460,
   "metadata": {},
   "outputs": [
    {
     "name": "stdout",
     "output_type": "stream",
     "text": [
      "Help on package omim:\n",
      "\n",
      "NAME\n",
      "    omim\n",
      "\n",
      "PACKAGE CONTENTS\n",
      "    bin (package)\n",
      "    core (package)\n",
      "    db (package)\n",
      "    util (package)\n",
      "\n",
      "DATA\n",
      "    BASE_DIR = r'C:\\ProgramData\\Anaconda3\\lib\\site-packages\\omim'\n",
      "    DEFAULT_DB = r'C:\\ProgramData\\Anaconda3\\lib\\site-packages\\omim\\data\\om...\n",
      "    DEFAULT_URL = 'https://mirror.omim.org'\n",
      "    HOME = r'C:\\Users\\Usuario'\n",
      "    MIM_PREFIX_EXPLAIN = {'': 'Other, mainly phenotypes with suspected men...\n",
      "    MIM_TYPES = ['gene', 'gene/phenotype', 'phenotype', 'predominantly phe...\n",
      "    PHENOTYPE_SYMBOL_EXPLAIN = {'(1)': 'the disorder was positioned by map...\n",
      "    __warningregistry__ = {'version': 26}\n",
      "    version_info = {'author': 'suqingdong', 'author_email': 'suqingdong111...\n",
      "\n",
      "VERSION\n",
      "    1.0.2\n",
      "\n",
      "FILE\n",
      "    c:\\programdata\\anaconda3\\lib\\site-packages\\omim\\__init__.py\n",
      "\n",
      "\n"
     ]
    }
   ],
   "source": [
    "help(omim)"
   ]
  },
  {
   "cell_type": "code",
   "execution_count": 466,
   "metadata": {},
   "outputs": [
    {
     "name": "stdout",
     "output_type": "stream",
     "text": [
      "+------------------+-----------------------+--------------+\n",
      "| Key              | Comment               | Type         |\n",
      "+------------------+-----------------------+--------------+\n",
      "| mim_number       | MIM Number            | VARCHAR(10)  |\n",
      "| prefix           | The prefix symbol     | VARCHAR(1)   |\n",
      "| title            | The title             | VARCHAR(50)  |\n",
      "| references       | The references        | VARCHAR(300) |\n",
      "| geneMap          | The geneMap data      | VARCHAR(300) |\n",
      "| phenotypeMap     | The phenotypeMap data | VARCHAR(300) |\n",
      "| mim_type         | The mim_type          | VARCHAR(20)  |\n",
      "| entrez_gene_id   | The entrez_gene_id    | VARCHAR(20)  |\n",
      "| ensembl_gene_id  | The ensembl_gene_id   | VARCHAR(20)  |\n",
      "| hgnc_gene_symbol | The hgnc_gene_symbol  | VARCHAR(20)  |\n",
      "| generated        | The generated time    | DATETIME     |\n",
      "+------------------+-----------------------+--------------+\n"
     ]
    }
   ],
   "source": [
    "print(util.get_columns_table())"
   ]
  },
  {
   "cell_type": "code",
   "execution_count": 472,
   "metadata": {},
   "outputs": [
    {
     "name": "stderr",
     "output_type": "stream",
     "text": [
      "INFO:sqlalchemy.engine.base.Engine:SELECT CAST('test plain returns' AS VARCHAR(60)) AS anon_1\n",
      "INFO:sqlalchemy.engine.base.Engine:()\n",
      "INFO:sqlalchemy.engine.base.Engine:SELECT CAST('test unicode returns' AS VARCHAR(60)) AS anon_1\n",
      "INFO:sqlalchemy.engine.base.Engine:()\n",
      "INFO:sqlalchemy.engine.base.Engine:PRAGMA main.table_info(\"omim\")\n",
      "INFO:sqlalchemy.engine.base.Engine:()\n",
      "DEBUG:sqlalchemy.engine.base.Engine:Col ('cid', 'name', 'type', 'notnull', 'dflt_value', 'pk')\n",
      "DEBUG:sqlalchemy.engine.base.Engine:Row (0, 'mim_number', 'VARCHAR(10)', 1, None, 1)\n",
      "DEBUG:sqlalchemy.engine.base.Engine:Row (1, 'prefix', 'VARCHAR(1)', 0, None, 0)\n",
      "DEBUG:sqlalchemy.engine.base.Engine:Row (2, 'title', 'VARCHAR(50)', 0, None, 0)\n",
      "DEBUG:sqlalchemy.engine.base.Engine:Row (3, 'references', 'VARCHAR(300)', 0, None, 0)\n",
      "DEBUG:sqlalchemy.engine.base.Engine:Row (4, 'geneMap', 'VARCHAR(300)', 0, None, 0)\n",
      "DEBUG:sqlalchemy.engine.base.Engine:Row (5, 'phenotypeMap', 'VARCHAR(300)', 0, None, 0)\n",
      "DEBUG:sqlalchemy.engine.base.Engine:Row (6, 'mim_type', 'VARCHAR(20)', 0, None, 0)\n",
      "DEBUG:sqlalchemy.engine.base.Engine:Row (7, 'entrez_gene_id', 'VARCHAR(20)', 0, None, 0)\n",
      "DEBUG:sqlalchemy.engine.base.Engine:Row (8, 'ensembl_gene_id', 'VARCHAR(20)', 0, None, 0)\n",
      "DEBUG:sqlalchemy.engine.base.Engine:Row (9, 'hgnc_gene_symbol', 'VARCHAR(20)', 0, None, 0)\n",
      "DEBUG:sqlalchemy.engine.base.Engine:Row (10, 'generated', 'DATETIME', 0, None, 0)\n",
      "INFO:sqlalchemy.engine.base.Engine:BEGIN (implicit)\n",
      "INFO:sqlalchemy.engine.base.Engine:SELECT omim.mim_number AS omim_mim_number, omim.prefix AS omim_prefix, omim.title AS omim_title, omim.\"references\" AS omim_references, omim.\"geneMap\" AS \"omim_geneMap\", omim.\"phenotypeMap\" AS \"omim_phenotypeMap\", omim.mim_type AS omim_mim_type, omim.entrez_gene_id AS omim_entrez_gene_id, omim.ensembl_gene_id AS omim_ensembl_gene_id, omim.hgnc_gene_symbol AS omim_hgnc_gene_symbol, omim.generated AS omim_generated \n",
      "FROM omim ORDER BY omim.generated DESC\n",
      " LIMIT ? OFFSET ?\n",
      "INFO:sqlalchemy.engine.base.Engine:(1, 0)\n",
      "DEBUG:sqlalchemy.engine.base.Engine:Col ('omim_mim_number', 'omim_prefix', 'omim_title', 'omim_references', 'omim_geneMap', 'omim_phenotypeMap', 'omim_mim_type', 'omim_entrez_gene_id', 'omim_ensembl_gene_id', 'omim_hgnc_gene_symbol', 'omim_generated')\n",
      "DEBUG:sqlalchemy.engine.base.Engine:Row ('113720', '^', 'MOVED TO 158340', '6285346, 3337905, 6094338, 2895474', None, None, 'moved/removed', '', '', '', '2021-04-20 00:00:00.000000')\n",
      "INFO:sqlalchemy.engine.base.Engine:SELECT count(*) AS count_1 \n",
      "FROM (SELECT omim.mim_number AS omim_mim_number, omim.prefix AS omim_prefix, omim.title AS omim_title, omim.\"references\" AS omim_references, omim.\"geneMap\" AS \"omim_geneMap\", omim.\"phenotypeMap\" AS \"omim_phenotypeMap\", omim.mim_type AS omim_mim_type, omim.entrez_gene_id AS omim_entrez_gene_id, omim.ensembl_gene_id AS omim_ensembl_gene_id, omim.hgnc_gene_symbol AS omim_hgnc_gene_symbol, omim.generated AS omim_generated \n",
      "FROM omim \n",
      "WHERE omim.mim_type = ?) AS anon_1\n",
      "INFO:sqlalchemy.engine.base.Engine:('gene',)\n",
      "DEBUG:sqlalchemy.engine.base.Engine:Col ('count_1',)\n",
      "DEBUG:sqlalchemy.engine.base.Engine:Row (16458,)\n",
      "INFO:sqlalchemy.engine.base.Engine:SELECT count(*) AS count_1 \n",
      "FROM (SELECT omim.mim_number AS omim_mim_number, omim.prefix AS omim_prefix, omim.title AS omim_title, omim.\"references\" AS omim_references, omim.\"geneMap\" AS \"omim_geneMap\", omim.\"phenotypeMap\" AS \"omim_phenotypeMap\", omim.mim_type AS omim_mim_type, omim.entrez_gene_id AS omim_entrez_gene_id, omim.ensembl_gene_id AS omim_ensembl_gene_id, omim.hgnc_gene_symbol AS omim_hgnc_gene_symbol, omim.generated AS omim_generated \n",
      "FROM omim \n",
      "WHERE omim.mim_type = ?) AS anon_1\n",
      "INFO:sqlalchemy.engine.base.Engine:('gene',)\n",
      "DEBUG:sqlalchemy.engine.base.Engine:Col ('count_1',)\n",
      "DEBUG:sqlalchemy.engine.base.Engine:Row (16458,)\n",
      "INFO:sqlalchemy.engine.base.Engine:SELECT count(*) AS count_1 \n",
      "FROM (SELECT omim.mim_number AS omim_mim_number, omim.prefix AS omim_prefix, omim.title AS omim_title, omim.\"references\" AS omim_references, omim.\"geneMap\" AS \"omim_geneMap\", omim.\"phenotypeMap\" AS \"omim_phenotypeMap\", omim.mim_type AS omim_mim_type, omim.entrez_gene_id AS omim_entrez_gene_id, omim.ensembl_gene_id AS omim_ensembl_gene_id, omim.hgnc_gene_symbol AS omim_hgnc_gene_symbol, omim.generated AS omim_generated \n",
      "FROM omim \n",
      "WHERE omim.mim_type = ?) AS anon_1\n",
      "INFO:sqlalchemy.engine.base.Engine:('gene/phenotype',)\n",
      "DEBUG:sqlalchemy.engine.base.Engine:Col ('count_1',)\n",
      "DEBUG:sqlalchemy.engine.base.Engine:Row (27,)\n",
      "INFO:sqlalchemy.engine.base.Engine:SELECT count(*) AS count_1 \n",
      "FROM (SELECT omim.mim_number AS omim_mim_number, omim.prefix AS omim_prefix, omim.title AS omim_title, omim.\"references\" AS omim_references, omim.\"geneMap\" AS \"omim_geneMap\", omim.\"phenotypeMap\" AS \"omim_phenotypeMap\", omim.mim_type AS omim_mim_type, omim.entrez_gene_id AS omim_entrez_gene_id, omim.ensembl_gene_id AS omim_ensembl_gene_id, omim.hgnc_gene_symbol AS omim_hgnc_gene_symbol, omim.generated AS omim_generated \n",
      "FROM omim \n",
      "WHERE omim.mim_type = ?) AS anon_1\n",
      "INFO:sqlalchemy.engine.base.Engine:('gene/phenotype',)\n",
      "DEBUG:sqlalchemy.engine.base.Engine:Col ('count_1',)\n",
      "DEBUG:sqlalchemy.engine.base.Engine:Row (27,)\n",
      "INFO:sqlalchemy.engine.base.Engine:SELECT count(*) AS count_1 \n",
      "FROM (SELECT omim.mim_number AS omim_mim_number, omim.prefix AS omim_prefix, omim.title AS omim_title, omim.\"references\" AS omim_references, omim.\"geneMap\" AS \"omim_geneMap\", omim.\"phenotypeMap\" AS \"omim_phenotypeMap\", omim.mim_type AS omim_mim_type, omim.entrez_gene_id AS omim_entrez_gene_id, omim.ensembl_gene_id AS omim_ensembl_gene_id, omim.hgnc_gene_symbol AS omim_hgnc_gene_symbol, omim.generated AS omim_generated \n",
      "FROM omim \n",
      "WHERE omim.mim_type = ?) AS anon_1\n",
      "INFO:sqlalchemy.engine.base.Engine:('phenotype',)\n",
      "DEBUG:sqlalchemy.engine.base.Engine:Col ('count_1',)\n",
      "DEBUG:sqlalchemy.engine.base.Engine:Row (7578,)\n",
      "INFO:sqlalchemy.engine.base.Engine:SELECT count(*) AS count_1 \n",
      "FROM (SELECT omim.mim_number AS omim_mim_number, omim.prefix AS omim_prefix, omim.title AS omim_title, omim.\"references\" AS omim_references, omim.\"geneMap\" AS \"omim_geneMap\", omim.\"phenotypeMap\" AS \"omim_phenotypeMap\", omim.mim_type AS omim_mim_type, omim.entrez_gene_id AS omim_entrez_gene_id, omim.ensembl_gene_id AS omim_ensembl_gene_id, omim.hgnc_gene_symbol AS omim_hgnc_gene_symbol, omim.generated AS omim_generated \n",
      "FROM omim \n",
      "WHERE omim.mim_type = ?) AS anon_1\n",
      "INFO:sqlalchemy.engine.base.Engine:('phenotype',)\n",
      "DEBUG:sqlalchemy.engine.base.Engine:Col ('count_1',)\n",
      "DEBUG:sqlalchemy.engine.base.Engine:Row (7578,)\n",
      "INFO:sqlalchemy.engine.base.Engine:SELECT count(*) AS count_1 \n",
      "FROM (SELECT omim.mim_number AS omim_mim_number, omim.prefix AS omim_prefix, omim.title AS omim_title, omim.\"references\" AS omim_references, omim.\"geneMap\" AS \"omim_geneMap\", omim.\"phenotypeMap\" AS \"omim_phenotypeMap\", omim.mim_type AS omim_mim_type, omim.entrez_gene_id AS omim_entrez_gene_id, omim.ensembl_gene_id AS omim_ensembl_gene_id, omim.hgnc_gene_symbol AS omim_hgnc_gene_symbol, omim.generated AS omim_generated \n",
      "FROM omim \n",
      "WHERE omim.mim_type = ?) AS anon_1\n",
      "INFO:sqlalchemy.engine.base.Engine:('predominantly phenotypes',)\n",
      "DEBUG:sqlalchemy.engine.base.Engine:Col ('count_1',)\n",
      "DEBUG:sqlalchemy.engine.base.Engine:Row (1762,)\n",
      "INFO:sqlalchemy.engine.base.Engine:SELECT count(*) AS count_1 \n",
      "FROM (SELECT omim.mim_number AS omim_mim_number, omim.prefix AS omim_prefix, omim.title AS omim_title, omim.\"references\" AS omim_references, omim.\"geneMap\" AS \"omim_geneMap\", omim.\"phenotypeMap\" AS \"omim_phenotypeMap\", omim.mim_type AS omim_mim_type, omim.entrez_gene_id AS omim_entrez_gene_id, omim.ensembl_gene_id AS omim_ensembl_gene_id, omim.hgnc_gene_symbol AS omim_hgnc_gene_symbol, omim.generated AS omim_generated \n",
      "FROM omim \n",
      "WHERE omim.mim_type = ?) AS anon_1\n",
      "INFO:sqlalchemy.engine.base.Engine:('predominantly phenotypes',)\n",
      "DEBUG:sqlalchemy.engine.base.Engine:Col ('count_1',)\n",
      "DEBUG:sqlalchemy.engine.base.Engine:Row (1762,)\n",
      "INFO:sqlalchemy.engine.base.Engine:SELECT count(*) AS count_1 \n",
      "FROM (SELECT omim.mim_number AS omim_mim_number, omim.prefix AS omim_prefix, omim.title AS omim_title, omim.\"references\" AS omim_references, omim.\"geneMap\" AS \"omim_geneMap\", omim.\"phenotypeMap\" AS \"omim_phenotypeMap\", omim.mim_type AS omim_mim_type, omim.entrez_gene_id AS omim_entrez_gene_id, omim.ensembl_gene_id AS omim_ensembl_gene_id, omim.hgnc_gene_symbol AS omim_hgnc_gene_symbol, omim.generated AS omim_generated \n",
      "FROM omim \n",
      "WHERE omim.mim_type = ?) AS anon_1\n"
     ]
    },
    {
     "name": "stderr",
     "output_type": "stream",
     "text": [
      "INFO:sqlalchemy.engine.base.Engine:('moved/removed',)\n",
      "DEBUG:sqlalchemy.engine.base.Engine:Col ('count_1',)\n",
      "DEBUG:sqlalchemy.engine.base.Engine:Row (1317,)\n",
      "INFO:sqlalchemy.engine.base.Engine:SELECT count(*) AS count_1 \n",
      "FROM (SELECT omim.mim_number AS omim_mim_number, omim.prefix AS omim_prefix, omim.title AS omim_title, omim.\"references\" AS omim_references, omim.\"geneMap\" AS \"omim_geneMap\", omim.\"phenotypeMap\" AS \"omim_phenotypeMap\", omim.mim_type AS omim_mim_type, omim.entrez_gene_id AS omim_entrez_gene_id, omim.ensembl_gene_id AS omim_ensembl_gene_id, omim.hgnc_gene_symbol AS omim_hgnc_gene_symbol, omim.generated AS omim_generated \n",
      "FROM omim \n",
      "WHERE omim.mim_type = ?) AS anon_1\n",
      "INFO:sqlalchemy.engine.base.Engine:('moved/removed',)\n",
      "DEBUG:sqlalchemy.engine.base.Engine:Col ('count_1',)\n",
      "DEBUG:sqlalchemy.engine.base.Engine:Row (1317,)\n",
      "INFO:sqlalchemy.engine.base.Engine:COMMIT\n",
      "[2021-06-10 12:16:53 Manager __exit__ DEBUG MainThread:33] database closed.\n"
     ]
    }
   ],
   "source": [
    "manager = Manager(dbfile=omim.DEFAULT_DB)\n",
    "generated, table = util.get_stats_table(manager)"
   ]
  },
  {
   "cell_type": "code",
   "execution_count": 475,
   "metadata": {},
   "outputs": [
    {
     "name": "stderr",
     "output_type": "stream",
     "text": [
      "INFO:sqlalchemy.engine.base.Engine:BEGIN (implicit)\n",
      "INFO:sqlalchemy.engine.base.Engine:SELECT omim.mim_number AS omim_mim_number, omim.prefix AS omim_prefix, omim.title AS omim_title, omim.\"references\" AS omim_references, omim.\"geneMap\" AS \"omim_geneMap\", omim.\"phenotypeMap\" AS \"omim_phenotypeMap\", omim.mim_type AS omim_mim_type, omim.entrez_gene_id AS omim_entrez_gene_id, omim.ensembl_gene_id AS omim_ensembl_gene_id, omim.hgnc_gene_symbol AS omim_hgnc_gene_symbol, omim.generated AS omim_generated \n",
      "FROM omim \n",
      "WHERE omim.hgnc_gene_symbol = ?\n",
      "INFO:sqlalchemy.engine.base.Engine:('ABCC8',)\n",
      "DEBUG:sqlalchemy.engine.base.Engine:Col ('omim_mim_number', 'omim_prefix', 'omim_title', 'omim_references', 'omim_geneMap', 'omim_phenotypeMap', 'omim_mim_type', 'omim_entrez_gene_id', 'omim_ensembl_gene_id', 'omim_hgnc_gene_symbol', 'omim_generated')\n",
      "DEBUG:sqlalchemy.engine.base.Engine:Row ('600509', '*', 'ATP-BINDING CASSETTE, SUBFAMILY C, MEMBER 8; ABCC8', '7716547, 16885549, 21378087, 20685672, 9259578, 18025464, 9041101, 17668386, 7789978, 21978130, 23273570, 16882742, 7920639, 10447255, 10426386, 9799 ... (123 characters truncated) ... 23011, 10334322, 7716539, 18596924, 15846348, 16613899, 11030411, 10193261, 16550187, 7847376, 7716548, 8751851, 12941782, 9469993, 15579781, 9769320', '[{\"Location\": \"11p15.1\", \"Phenotype\": \"Diabetes mellitus, noninsulin-dependent\", \"Phenotype MIM number\": \"125853\", \"Inheritance\": \"AD\", \"Phenotype ma ... (581 characters truncated) ... .1\", \"Phenotype\": \"Hypoglycemia of infancy, leucine-sensitive\", \"Phenotype MIM number\": \"240800\", \"Inheritance\": \"AD\", \"Phenotype mapping key\": \"3\"}]', None, 'gene', '6833', 'ENSG00000006071', 'ABCC8', '2021-04-14 00:00:00.000000')\n"
     ]
    },
    {
     "data": {
      "text/plain": [
       "[[600509 - ATP-BINDING CASSETTE, SUBFAMILY C, MEMBER 8; ABCC8]]"
      ]
     },
     "execution_count": 475,
     "metadata": {},
     "output_type": "execute_result"
    }
   ],
   "source": [
    "res = manager.query(OMIM_DATA, 'hgnc_gene_symbol', 'ABCC8')\n",
    "res.all()"
   ]
  },
  {
   "cell_type": "code",
   "execution_count": null,
   "metadata": {},
   "outputs": [],
   "source": []
  }
 ],
 "metadata": {
  "accelerator": "GPU",
  "colab": {
   "name": "Untitled1.ipynb",
   "private_outputs": true,
   "provenance": []
  },
  "kernelspec": {
   "display_name": "Python 3",
   "language": "python",
   "name": "python3"
  },
  "language_info": {
   "codemirror_mode": {
    "name": "ipython",
    "version": 3
   },
   "file_extension": ".py",
   "mimetype": "text/x-python",
   "name": "python",
   "nbconvert_exporter": "python",
   "pygments_lexer": "ipython3",
   "version": "3.7.4"
  }
 },
 "nbformat": 4,
 "nbformat_minor": 1
}
