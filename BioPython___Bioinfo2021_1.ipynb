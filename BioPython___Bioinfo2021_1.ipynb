{
  "nbformat": 4,
  "nbformat_minor": 0,
  "metadata": {
    "colab": {
      "name": "BioPython_-_Bioinfo2021-1.ipynb",
      "private_outputs": true,
      "provenance": [],
      "authorship_tag": "ABX9TyMze7ROJP/TXZ6mUW5mvWRC",
      "include_colab_link": true
    },
    "kernelspec": {
      "name": "python3",
      "display_name": "Python 3"
    },
    "language_info": {
      "name": "python"
    }
  },
  "cells": [
    {
      "cell_type": "markdown",
      "metadata": {
        "id": "view-in-github",
        "colab_type": "text"
      },
      "source": [
        "<a href=\"https://colab.research.google.com/github/MiqueiasMaia/Bioinform-tica2021-1/blob/main/BioPython___Bioinfo2021_1.ipynb\" target=\"_parent\"><img src=\"https://colab.research.google.com/assets/colab-badge.svg\" alt=\"Open In Colab\"/></a>"
      ]
    },
    {
      "cell_type": "code",
      "metadata": {
        "id": "R6oZZo9FBgYe"
      },
      "source": [
        "#Instalação\n",
        "!pip install Biopython\n",
        "!pip install reportlab"
      ],
      "execution_count": null,
      "outputs": []
    },
    {
      "cell_type": "code",
      "metadata": {
        "id": "2O8YliX3q3ht"
      },
      "source": [
        "#Importações\n",
        "from Bio.Seq import Seq\n",
        "from Bio.SeqUtils import GC\n",
        "from Bio import Entrez\n",
        "from Bio import SeqIO\n",
        "from Bio.Data import CodonTable\n",
        "from Bio.Seq import MutableSeq\n",
        "from Bio.Seq import UnknownSeq\n",
        "from Bio.SeqFeature import SeqFeature, FeatureLocation\n",
        "from Bio.SeqRecord import SeqRecord\n",
        "from Bio.Graphics import GenomeDiagram\n",
        "from reportlab.lib import colors\n",
        "from reportlab.lib.units import cm \n",
        "from IPython.display import Image\n",
        "from Bio import AlignIO\n",
        "from Bio import pairwise2\n",
        "from Bio.Align import substitution_matrices\n",
        "from Bio import Align\n",
        "\n",
        "import warnings\n",
        "warnings.filterwarnings('ignore')"
      ],
      "execution_count": null,
      "outputs": []
    },
    {
      "cell_type": "code",
      "metadata": {
        "id": "NaoqP8Y7CBbL"
      },
      "source": [
        "#Instância de sequência\n",
        "seq = Seq('CGTACATGTTTAGCA')\n",
        "seq"
      ],
      "execution_count": null,
      "outputs": []
    },
    {
      "cell_type": "code",
      "metadata": {
        "id": "8n7nQw9eDj39"
      },
      "source": [
        "#Obtenção de sequência complementar\n",
        "seq.complement()"
      ],
      "execution_count": null,
      "outputs": []
    },
    {
      "cell_type": "code",
      "metadata": {
        "id": "EBhnJhwnDvLa"
      },
      "source": [
        "#Obtenção de sequência reversa complementar\n",
        "seq.reverse_complement()"
      ],
      "execution_count": null,
      "outputs": []
    },
    {
      "cell_type": "code",
      "metadata": {
        "id": "Qab5TD_LDyq6"
      },
      "source": [
        "#Transcrição\n",
        "seq.transcribe()"
      ],
      "execution_count": null,
      "outputs": []
    },
    {
      "cell_type": "code",
      "metadata": {
        "id": "ytnYd4B0D30x"
      },
      "source": [
        "#Tradução\n",
        "seq.transcribe().translate()"
      ],
      "execution_count": null,
      "outputs": []
    },
    {
      "cell_type": "code",
      "metadata": {
        "id": "3MmP3VMMD7Hh"
      },
      "source": [
        "#Download de arquivos fasta do NCBI\n",
        "Entrez.email = 'miqueias.maia@aluno.uece.br'\n",
        "handle = Entrez.esearch(db='nucleotide',  term='SARS-CoV-2 human', retmax='100')\n",
        "record = Entrez.read(handle)\n",
        "\n",
        "#Escrita do arquivo\n",
        "seq_handle = Entrez.efetch(db='nucleotide', rettype='fasta', id=record['IdList'])\n",
        "seq_record = SeqIO.parse(seq_handle, 'fasta')\n",
        "SeqIO.write(seq_record, 'SARS-Cov-2.fasta','fasta')"
      ],
      "execution_count": null,
      "outputs": []
    },
    {
      "cell_type": "code",
      "metadata": {
        "id": "4EDf3BtxE6ps"
      },
      "source": [
        "#Leitura de arquivo fasta para manipulação\n",
        "archive = open('SARS-Cov-2.fasta','r')\n",
        "seqs = []\n",
        "for s in SeqIO.parse(archive,'fasta'):\n",
        "  seqs.append(s)"
      ],
      "execution_count": null,
      "outputs": []
    },
    {
      "cell_type": "code",
      "metadata": {
        "id": "Jb3Jt-OVFKQE"
      },
      "source": [
        "#Exibição de dados do sequenciamento\n",
        "seqs[99]"
      ],
      "execution_count": null,
      "outputs": []
    },
    {
      "cell_type": "code",
      "metadata": {
        "id": "pVBTiUiQGZbi"
      },
      "source": [
        "#Contagem de sequências\n",
        "seqs[99].seq.count(\"AAGT\")"
      ],
      "execution_count": null,
      "outputs": []
    },
    {
      "cell_type": "code",
      "metadata": {
        "id": "mnTCDK07HsAK"
      },
      "source": [
        "#Tamanho do sequenciamento\n",
        "len(seqs[99].seq)"
      ],
      "execution_count": null,
      "outputs": []
    },
    {
      "cell_type": "code",
      "metadata": {
        "id": "hVbihlQrHyh4"
      },
      "source": [
        "#Percentual de conteúdo GC\n",
        "GC(seqs[99].seq)"
      ],
      "execution_count": null,
      "outputs": []
    },
    {
      "cell_type": "code",
      "metadata": {
        "id": "q8osNDALIKT6"
      },
      "source": [
        "#Trechos de sequência\n",
        "seqs[99].seq[15:23]"
      ],
      "execution_count": null,
      "outputs": []
    },
    {
      "cell_type": "code",
      "metadata": {
        "id": "QF5fjJ1VIv2B"
      },
      "source": [
        "#Junção de sequências\n",
        "join_seq = seqs[99].seq + seqs[98].seq\n",
        "join_seq"
      ],
      "execution_count": null,
      "outputs": []
    },
    {
      "cell_type": "code",
      "metadata": {
        "id": "LPp29U5HI8vx"
      },
      "source": [
        "#Sequência complementar da consulta\n",
        "seqs[99].seq.complement()"
      ],
      "execution_count": null,
      "outputs": []
    },
    {
      "cell_type": "code",
      "metadata": {
        "id": "bVyiklNYJeWO"
      },
      "source": [
        "#Sequência reversa complementar da consulta\n",
        "seqs[99].seq.reverse_complement()"
      ],
      "execution_count": null,
      "outputs": []
    },
    {
      "cell_type": "code",
      "metadata": {
        "id": "qgUz5Dm8Jl-B"
      },
      "source": [
        "#Transcrição da consulta\n",
        "seqs[99].seq.transcribe()"
      ],
      "execution_count": null,
      "outputs": []
    },
    {
      "cell_type": "code",
      "metadata": {
        "id": "hcBPEi8xJun5"
      },
      "source": [
        "#Tradução da consulta\n",
        "seqs[99].seq.translate()"
      ],
      "execution_count": null,
      "outputs": []
    },
    {
      "cell_type": "code",
      "metadata": {
        "id": "8lBpBjYyJwnx"
      },
      "source": [
        "#Tradução reversa complementar da consulta (utilizando tabela e considerando stop codon)\n",
        "#Tabelas de referência do NBCI: https://www.ncbi.nlm.nih.gov/Taxonomy/Utils/wprintgc.cgi\n",
        "seqs[99].seq.reverse_complement().translate(table=5, to_stop=True)"
      ],
      "execution_count": null,
      "outputs": []
    },
    {
      "cell_type": "code",
      "metadata": {
        "id": "PetZy5P_KdyB"
      },
      "source": [
        "#Tabelas de tradução\n",
        "standard_table = CodonTable.unambiguous_dna_by_name[\"Standard\"]\n",
        "mito_table = CodonTable.unambiguous_dna_by_name[\"Vertebrate Mitochondrial\"]\n",
        "\n",
        "print(mito_table)"
      ],
      "execution_count": null,
      "outputs": []
    },
    {
      "cell_type": "code",
      "metadata": {
        "id": "WvKeqpbULjSS"
      },
      "source": [
        "#Comparação de sequências\n",
        "seqs[98].seq == seqs[99].seq"
      ],
      "execution_count": null,
      "outputs": []
    },
    {
      "cell_type": "code",
      "metadata": {
        "id": "L8PEj8dmMxiq"
      },
      "source": [
        "#Mutar sequência\n",
        "mutable_seq = MutableSeq(seqs[99].seq)"
      ],
      "execution_count": null,
      "outputs": []
    },
    {
      "cell_type": "code",
      "metadata": {
        "id": "1nbswyZ5M7OK"
      },
      "source": [
        "mutable_seq[15]"
      ],
      "execution_count": null,
      "outputs": []
    },
    {
      "cell_type": "code",
      "metadata": {
        "id": "4I6QuSaiNqPx"
      },
      "source": [
        "mutable_seq [15] = \"C\"\n",
        "mutable_seq"
      ],
      "execution_count": null,
      "outputs": []
    },
    {
      "cell_type": "code",
      "metadata": {
        "id": "fNiWcW96NuKC"
      },
      "source": [
        "mutable_seq[15]"
      ],
      "execution_count": null,
      "outputs": []
    },
    {
      "cell_type": "code",
      "metadata": {
        "id": "vLyUkvG1N6MR"
      },
      "source": [
        "#Sequência desconhecida\n",
        "unk_dna = UnknownSeq(100, character=\"N\")\n",
        "print(unk_dna)"
      ],
      "execution_count": null,
      "outputs": []
    },
    {
      "cell_type": "code",
      "metadata": {
        "id": "7ZJ1bUvkObiq"
      },
      "source": [
        "#Download de arquivos do GenBank\n",
        "seq_handle2 = Entrez.efetch(db='nucleotide', rettype='gb', id=record['IdList'])\n",
        "seq_record2 = SeqIO.parse(seq_handle2,'gb')\n",
        "\n",
        "SeqIO.write(seq_record2, 'SARS-Cov-2.gb','gb')"
      ],
      "execution_count": null,
      "outputs": []
    },
    {
      "cell_type": "code",
      "metadata": {
        "id": "_RRK048mPKUh"
      },
      "source": [
        "#Ler arquivo GenBank e adicionar em array\n",
        "archive = open('SARS-Cov-2.gb','r')\n",
        "seqs_gb = []\n",
        "for s in SeqIO.parse(archive,'gb'):\n",
        "  seqs_gb.append(s)"
      ],
      "execution_count": null,
      "outputs": []
    },
    {
      "cell_type": "code",
      "metadata": {
        "id": "BbugRUbMR0ve"
      },
      "source": [
        "#Manipular propriedades dos sequenciamentos\n",
        "seqs_gb[50].description"
      ],
      "execution_count": null,
      "outputs": []
    },
    {
      "cell_type": "code",
      "metadata": {
        "id": "s8iSslA3Sfmu"
      },
      "source": [
        "#Sequênciamento do SARS-Cov-2 de Wuhan, referência\n",
        "wuhan_handle = Entrez.efetch(db='nucleotide', rettype='gb', id='NC_045512')\n",
        "wuhan_handle = SeqIO.parse(wuhan_handle,'gb')\n",
        "SeqIO.write(wuhan_handle, 'Wuhan-SARS-Cov-2.gb','gb')"
      ],
      "execution_count": null,
      "outputs": []
    },
    {
      "cell_type": "code",
      "metadata": {
        "id": "zBfkWdj6eYF-"
      },
      "source": [
        "#FASTA\n",
        "wuhan_handle_fasta = Entrez.efetch(db='nucleotide', rettype='fasta', id='NC_045512')\n",
        "wuhan_handle_fasta = SeqIO.parse(wuhan_handle_fasta,'fasta')\n",
        "SeqIO.write(wuhan_handle_fasta, 'Wuhan-SARS-Cov-2.fasta','fasta')"
      ],
      "execution_count": null,
      "outputs": []
    },
    {
      "cell_type": "code",
      "metadata": {
        "id": "vS6ifkbQVA_Z"
      },
      "source": [
        "#Sequênciamento do SARS-Cov-2 de Manaus\n",
        "manaus_handle = Entrez.efetch(db='nucleotide', rettype='gb', id='MZ264787')\n",
        "manaus_handle = SeqIO.parse(manaus_handle,'gb')\n",
        "SeqIO.write(manaus_handle, 'Manaus-SARS-Cov-2.gb','gb')"
      ],
      "execution_count": null,
      "outputs": []
    },
    {
      "cell_type": "code",
      "metadata": {
        "id": "VWYVv1uuf-3A"
      },
      "source": [
        "#FASTA\n",
        "manaus_fasta = Entrez.efetch(db='nucleotide', rettype='fasta', id='MZ264787')\n",
        "manaus_fasta = SeqIO.parse(manaus_fasta,'fasta')\n",
        "SeqIO.write(manaus_fasta, 'Manaus-SARS-Cov-2.fasta','fasta')"
      ],
      "execution_count": null,
      "outputs": []
    },
    {
      "cell_type": "code",
      "metadata": {
        "id": "N9ooCxXdVIeP"
      },
      "source": [
        "#Ler arquivo GB e atribuir a variável\n",
        "seq_wuhan = SeqIO.read(\"Wuhan-SARS-Cov-2.gb\", \"genbank\")\n",
        "seq_wuhan"
      ],
      "execution_count": null,
      "outputs": []
    },
    {
      "cell_type": "code",
      "metadata": {
        "id": "gwEv10qagPR1"
      },
      "source": [
        "#Ler arquivo FASTA e atribuir a variável\n",
        "seq_wuhan_f = SeqIO.read(\"Wuhan-SARS-Cov-2.fasta\", \"fasta\")\n",
        "seq_wuhan_f"
      ],
      "execution_count": null,
      "outputs": []
    },
    {
      "cell_type": "code",
      "metadata": {
        "id": "RwV3mPAiXJl3"
      },
      "source": [
        "seq_manaus = SeqIO.read(\"Manaus-SARS-Cov-2.gb\", \"genbank\")\n",
        "seq_manaus"
      ],
      "execution_count": null,
      "outputs": []
    },
    {
      "cell_type": "code",
      "metadata": {
        "id": "Nen2imR-gVid"
      },
      "source": [
        "seq_manaus_f = SeqIO.read(\"Manaus-SARS-Cov-2.fasta\", \"fasta\")\n",
        "seq_manaus_f"
      ],
      "execution_count": null,
      "outputs": []
    },
    {
      "cell_type": "code",
      "metadata": {
        "id": "KX36_PgsXNBG"
      },
      "source": [
        "#Comparação de sequências\n",
        "seq_wuhan.seq == seq_manaus.seq"
      ],
      "execution_count": null,
      "outputs": []
    },
    {
      "cell_type": "code",
      "metadata": {
        "id": "75BnktyaYRT_"
      },
      "source": [
        "#Tamanho do sequenciamento\n",
        "len(seq_wuhan.seq)"
      ],
      "execution_count": null,
      "outputs": []
    },
    {
      "cell_type": "code",
      "metadata": {
        "id": "D5mOu3GIYyad"
      },
      "source": [
        "len(seq_manaus.seq)"
      ],
      "execution_count": null,
      "outputs": []
    },
    {
      "cell_type": "code",
      "metadata": {
        "id": "iRFnsnP1Y0_1"
      },
      "source": [
        "#Percentual de conteúdo GC\n",
        "GC(seq_manaus.seq)"
      ],
      "execution_count": null,
      "outputs": []
    },
    {
      "cell_type": "code",
      "metadata": {
        "id": "DCAEHyMgZD59"
      },
      "source": [
        "GC(seq_wuhan.seq)"
      ],
      "execution_count": null,
      "outputs": []
    },
    {
      "cell_type": "code",
      "metadata": {
        "id": "IzKlsp4wZF2l"
      },
      "source": [
        "#Tradução\n",
        "seq_manaus.seq.translate(to_stop=True)"
      ],
      "execution_count": null,
      "outputs": []
    },
    {
      "cell_type": "code",
      "metadata": {
        "id": "MpGyPV_kZPC9"
      },
      "source": [
        "seq_wuhan.seq.translate(to_stop=True)"
      ],
      "execution_count": null,
      "outputs": []
    },
    {
      "cell_type": "code",
      "metadata": {
        "id": "MvFF7vWjZTdW"
      },
      "source": [
        "#Quantidade de features do sequenciamento\n",
        "len(seq_wuhan.features)"
      ],
      "execution_count": null,
      "outputs": []
    },
    {
      "cell_type": "code",
      "metadata": {
        "id": "toKdQ_9SZnI2"
      },
      "source": [
        "len(seq_manaus.features)"
      ],
      "execution_count": null,
      "outputs": []
    },
    {
      "cell_type": "code",
      "metadata": {
        "id": "RXc-qTZ9Zyke"
      },
      "source": [
        "feature = SeqFeature(FeatureLocation(5,18), type='gene', strand=-1)\n",
        "feature_seq_wuhan = seq_wuhan[feature.location.start:feature.location.end].reverse_complement()\n",
        "feature_seq_wuhan"
      ],
      "execution_count": null,
      "outputs": []
    },
    {
      "cell_type": "code",
      "metadata": {
        "id": "KgGmXZe0cZbG"
      },
      "source": [
        "feature_seq_manaus = seq_manaus[feature.location.start:feature.location.end].reverse_complement()\n",
        "feature_seq_manaus"
      ],
      "execution_count": null,
      "outputs": []
    },
    {
      "cell_type": "code",
      "metadata": {
        "id": "fTIYt0K0dpaW"
      },
      "source": [
        "feature_seq_manaus.seq == feature_seq_wuhan.seq"
      ],
      "execution_count": null,
      "outputs": []
    },
    {
      "cell_type": "code",
      "metadata": {
        "id": "lVTjNPIkeGMO"
      },
      "source": [
        "#Comparação de sequencias entre formatos diferentes\n",
        "seq_wuhan_f.seq == seq_wuhan.seq"
      ],
      "execution_count": null,
      "outputs": []
    },
    {
      "cell_type": "code",
      "metadata": {
        "id": "K2Oj50Rlgbm-"
      },
      "source": [
        "print(seq_wuhan.features[20])"
      ],
      "execution_count": null,
      "outputs": []
    },
    {
      "cell_type": "code",
      "metadata": {
        "id": "pMs1LLuLiuvP"
      },
      "source": [
        "#Visualização do genoma\n",
        "wuhan_diag = GenomeDiagram.Diagram('Wuhan Genôma de Referência')\n",
        "genTrack_features = wuhan_diag.new_track(1, name = 'Features reportadas')\n",
        "genFeatures_set = genTrack_features.new_set()\n",
        "\n",
        "for feature in seq_wuhan.features:\n",
        "  if feature.type != 'gene':\n",
        "    continue \n",
        "  if len(genFeatures_set) % 2 == 0:\n",
        "    color = colors.blue\n",
        "  else:\n",
        "    color = colors.red\n",
        "  genFeatures_set.add_feature(feature, color=color, label=True, sigil='ARROW')\n",
        "\n",
        "wuhan_diag.draw(format='linear', circular=False, pagesize=(20*cm, 20*cm), start=0, end=len(seq_wuhan), circle_core=0.7)\n",
        "wuhan_diag.write('wuhan_sars_cov.png','png')\n",
        "Image(filename='wuhan_sars_cov.png')"
      ],
      "execution_count": null,
      "outputs": []
    },
    {
      "cell_type": "code",
      "metadata": {
        "id": "ltjyPsf1kebF"
      },
      "source": [
        "manaus_diag = GenomeDiagram.Diagram('Manaus Genôma')\n",
        "genTrack_features = manaus_diag.new_track(1, name = 'Features reportadas')\n",
        "genFeatures_set = genTrack_features.new_set()\n",
        "\n",
        "for feature in seq_manaus.features:\n",
        "  if feature.type != 'gene':\n",
        "    continue \n",
        "  if len(genFeatures_set) % 2 == 0:\n",
        "    color = colors.blue\n",
        "  else:\n",
        "    color = colors.red\n",
        "  genFeatures_set.add_feature(feature, color=color, label=True, sigil='ARROW')\n",
        "\n",
        "manaus_diag.draw(format='linear', circular=False, pagesize=(20*cm, 20*cm), start=0, end=len(seq_manaus), circle_core=0.7)\n",
        "manaus_diag.write('manaus_sars_cov.png','png')\n",
        "Image(filename='manaus_sars_cov.png')"
      ],
      "execution_count": null,
      "outputs": []
    },
    {
      "cell_type": "code",
      "metadata": {
        "id": "uUU9TTF1ksxW"
      },
      "source": [
        "#GB para Fasta\n",
        "print(seq_wuhan.format(\"fasta\"))"
      ],
      "execution_count": null,
      "outputs": []
    },
    {
      "cell_type": "code",
      "metadata": {
        "id": "sgIiivv8rlhl"
      },
      "source": [
        "seq_wuhan_manaus = [\n",
        "                    SeqRecord(\n",
        "                        Seq(seq_wuhan.seq),\n",
        "                        id = seq_wuhan.id,\n",
        "                        description = seq_wuhan.description,\n",
        "                        name = \"SARS-Cov-2 Wuhan, Sequenciamento de referência\"\n",
        "                    ),\n",
        "                    SeqRecord(\n",
        "                        Seq(seq_manaus.seq),\n",
        "                        id = seq_manaus.id,\n",
        "                        description = seq_manaus.description,\n",
        "                        name = \"SARS-Cov-2 Manaus\"\n",
        "                    ),\n",
        "]\n",
        "seq_wuhan_manaus"
      ],
      "execution_count": null,
      "outputs": []
    },
    {
      "cell_type": "code",
      "metadata": {
        "id": "AFegDcJ1yZad"
      },
      "source": [
        "SeqIO.write(seq_wuhan_manaus, \"seq_wuhan_manaus.fasta\", \"fasta\")"
      ],
      "execution_count": null,
      "outputs": []
    },
    {
      "cell_type": "code",
      "metadata": {
        "id": "IuQPOE4Cz7m1"
      },
      "source": [
        "archive_w_m = open('seq_wuhan_manaus.fasta','r')\n",
        "seqs_wm = []\n",
        "for s in SeqIO.parse(archive_w_m,'fasta'):\n",
        "  seqs_wm.append(s)"
      ],
      "execution_count": null,
      "outputs": []
    },
    {
      "cell_type": "code",
      "metadata": {
        "id": "dqizoJxw4Gvd"
      },
      "source": [
        "seqs_wm[0].seq"
      ],
      "execution_count": null,
      "outputs": []
    },
    {
      "cell_type": "code",
      "metadata": {
        "id": "Q-6pME2A0hmC"
      },
      "source": [
        "blosum62 = substitution_matrices.load(\"BLOSUM62\")\n",
        "alignment_wm = pairwise2.align.localdx(seqs_wm[0].seq[0:20], seqs_wm[1].seq[0:20], blosum62)\n",
        "alignment_wm"
      ],
      "execution_count": null,
      "outputs": []
    },
    {
      "cell_type": "code",
      "metadata": {
        "id": "rZi722FM2lct"
      },
      "source": [
        "print(pairwise2.format_alignment(*alignment_wm[0], full_sequences=True))"
      ],
      "execution_count": null,
      "outputs": []
    },
    {
      "cell_type": "code",
      "metadata": {
        "id": "k9Qr4H1u5ZaX"
      },
      "source": [
        "len(alignment_wm)"
      ],
      "execution_count": null,
      "outputs": []
    },
    {
      "cell_type": "code",
      "metadata": {
        "id": "ElLCa-Ua6jel"
      },
      "source": [
        "aligner = Align.PairwiseAligner(substitution_matrix = blosum62)"
      ],
      "execution_count": null,
      "outputs": []
    },
    {
      "cell_type": "code",
      "metadata": {
        "id": "KfRIupU_8OqF"
      },
      "source": [
        "score = aligner.score(seqs_wm[0].seq[0:20], seqs_wm[1].seq[0:20])\n",
        "score"
      ],
      "execution_count": null,
      "outputs": []
    },
    {
      "cell_type": "code",
      "metadata": {
        "id": "zzDIGQm18b_c"
      },
      "source": [
        "#for alignment in aligner.align(seqs_wm[0].seq[0:20], seqs_wm[1].seq[0:20]):\n",
        "  #print(alignment)"
      ],
      "execution_count": null,
      "outputs": []
    },
    {
      "cell_type": "code",
      "metadata": {
        "id": "maFXCeDd8uX0"
      },
      "source": [
        "print(aligner)"
      ],
      "execution_count": null,
      "outputs": []
    },
    {
      "cell_type": "code",
      "metadata": {
        "id": "4Sz0Pd0G9d89"
      },
      "source": [
        "alignment_wm2 = aligner.align(seqs_wm[0].seq[0:200].translate(), seqs_wm[1].seq[0:200].translate())\n",
        "len(alignment_wm2)"
      ],
      "execution_count": null,
      "outputs": []
    },
    {
      "cell_type": "code",
      "metadata": {
        "id": "jkxIYhwJACXk"
      },
      "source": [
        "for alignment in aligner.align(seqs_wm[0].seq[0:200].translate(), seqs_wm[1].seq[0:200].translate()):\n",
        "  print(alignment)"
      ],
      "execution_count": null,
      "outputs": []
    },
    {
      "cell_type": "code",
      "metadata": {
        "id": "O3K_Z9mg-wlN"
      },
      "source": [
        "print(alignment_wm2[0])"
      ],
      "execution_count": null,
      "outputs": []
    },
    {
      "cell_type": "code",
      "metadata": {
        "id": "pr0l3h13ARfk"
      },
      "source": [
        "score = aligner.score(seqs_wm[0].seq[0:200].translate(), seqs_wm[1].seq[0:200].translate())\n",
        "score"
      ],
      "execution_count": null,
      "outputs": []
    },
    {
      "cell_type": "code",
      "metadata": {
        "id": "urqFJh8R-4LV"
      },
      "source": [
        "print(alignment_wm2[0].aligned)"
      ],
      "execution_count": null,
      "outputs": []
    },
    {
      "cell_type": "code",
      "metadata": {
        "id": "n8bSK6d0_Srk"
      },
      "source": [
        ""
      ],
      "execution_count": null,
      "outputs": []
    }
  ]
}